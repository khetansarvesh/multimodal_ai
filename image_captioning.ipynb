{
  "nbformat": 4,
  "nbformat_minor": 0,
  "metadata": {
    "colab": {
      "provenance": [],
      "collapsed_sections": [
        "-od4VQ4S6h8C",
        "yHV2bxgB6BNs",
        "rae7dQKZ6I4L",
        "CgrQw7TA6aWu"
      ]
    },
    "kernelspec": {
      "name": "python3",
      "display_name": "Python 3"
    },
    "language_info": {
      "name": "python"
    }
  },
  "cells": [
    {
      "cell_type": "code",
      "source": [
        "!python -m spacy download en"
      ],
      "metadata": {
        "id": "NcLtAQQ0A2oR"
      },
      "execution_count": null,
      "outputs": []
    },
    {
      "cell_type": "code",
      "source": [
        "import os  # when loading file paths\n",
        "import pandas as pd  # for lookup in annotation file\n",
        "import spacy  # for tokenizer\n",
        "from PIL import Image  # Load img\n",
        "import statistics\n",
        "from tqdm import tqdm\n",
        "\n",
        "import torch\n",
        "import torch.nn as nn\n",
        "import torch.optim as optim\n",
        "from torch.nn.utils.rnn import pad_sequence  # pad batch\n",
        "from torch.utils.data import DataLoader, Dataset\n",
        "import torchvision.transforms as transforms\n",
        "import torchvision.models as models"
      ],
      "metadata": {
        "id": "j5temIlr6E8t"
      },
      "execution_count": null,
      "outputs": []
    },
    {
      "cell_type": "code",
      "source": [
        "torch.backends.cudnn.benchmark = True\n",
        "device = torch.device(\"cuda\" if torch.cuda.is_available() else \"cpu\")\n",
        "spacy_eng = spacy.load(\"en\")"
      ],
      "metadata": {
        "id": "rLR26SNf8VOl"
      },
      "execution_count": null,
      "outputs": []
    },
    {
      "cell_type": "markdown",
      "source": [
        "# Dataset\n",
        "\n",
        "\n",
        "We want to convert text -> numerical values\n",
        "1. We need a Vocabulary mapping each word to a index\n",
        "2. We need to setup a Pytorch dataset to load the data\n",
        "3. Setup padding of every batch (all examples should be of same seq_len and setup dataloader)"
      ],
      "metadata": {
        "id": "-od4VQ4S6h8C"
      }
    },
    {
      "cell_type": "code",
      "execution_count": null,
      "metadata": {
        "id": "ERceM9n452YF"
      },
      "outputs": [],
      "source": [
        "class Vocabulary:\n",
        "    def __init__(self, freq_threshold):\n",
        "        self.itos = {0: \"<PAD>\", 1: \"<SOS>\", 2: \"<EOS>\", 3: \"<UNK>\"}\n",
        "        self.stoi = {\"<PAD>\": 0, \"<SOS>\": 1, \"<EOS>\": 2, \"<UNK>\": 3}\n",
        "        self.freq_threshold = freq_threshold\n",
        "\n",
        "    def __len__(self):\n",
        "        return len(self.itos)\n",
        "\n",
        "    @staticmethod\n",
        "    def tokenizer_eng(text):\n",
        "        return [tok.text.lower() for tok in spacy_eng.tokenizer(text)]\n",
        "\n",
        "    def build_vocabulary(self, sentence_list):\n",
        "        frequencies = {}\n",
        "        idx = 4\n",
        "\n",
        "        for sentence in sentence_list:\n",
        "            for word in self.tokenizer_eng(sentence):\n",
        "                if word not in frequencies:\n",
        "                    frequencies[word] = 1\n",
        "\n",
        "                else:\n",
        "                    frequencies[word] += 1\n",
        "\n",
        "                if frequencies[word] == self.freq_threshold:\n",
        "                    self.stoi[word] = idx\n",
        "                    self.itos[idx] = word\n",
        "                    idx += 1\n",
        "\n",
        "    def numericalize(self, text):\n",
        "        tokenized_text = self.tokenizer_eng(text)\n",
        "\n",
        "        return [ self.stoi[token] if token in self.stoi else self.stoi[\"<UNK>\"] for token in tokenized_text]\n",
        "\n",
        "\n",
        "class FlickrDataset(Dataset):\n",
        "    def __init__(self, root_dir, captions_file, transform=None, freq_threshold=5):\n",
        "        self.root_dir = root_dir\n",
        "        self.df = pd.read_csv(captions_file)\n",
        "        self.transform = transform\n",
        "\n",
        "        # Get img, caption columns\n",
        "        self.imgs = self.df[\"image\"]\n",
        "        self.captions = self.df[\"caption\"]\n",
        "\n",
        "        # Initialize vocabulary and build vocab\n",
        "        self.vocab = Vocabulary(freq_threshold)\n",
        "        self.vocab.build_vocabulary(self.captions.tolist())\n",
        "\n",
        "    def __len__(self):\n",
        "        return len(self.df)\n",
        "\n",
        "    def __getitem__(self, index):\n",
        "        caption = self.captions[index]\n",
        "        img_id = self.imgs[index]\n",
        "        img = Image.open(os.path.join(self.root_dir, img_id)).convert(\"RGB\")\n",
        "\n",
        "        if self.transform is not None:\n",
        "            img = self.transform(img)\n",
        "\n",
        "        numericalized_caption = [self.vocab.stoi[\"<SOS>\"]]\n",
        "        numericalized_caption += self.vocab.numericalize(caption)\n",
        "        numericalized_caption.append(self.vocab.stoi[\"<EOS>\"])\n",
        "\n",
        "        return img, torch.tensor(numericalized_caption)"
      ]
    },
    {
      "cell_type": "code",
      "source": [
        "dataset = FlickrDataset(\n",
        "                        \"flickr8k/images\",\n",
        "                        \"flickr8k/captions.txt\",\n",
        "                        transform=transforms.Compose([transforms.Resize((356, 356)),\n",
        "                                                      transforms.RandomCrop((299, 299)),\n",
        "                                                      transforms.ToTensor(),\n",
        "                                                      transforms.Normalize((0.5, 0.5, 0.5), (0.5, 0.5, 0.5))])\n",
        "                        )"
      ],
      "metadata": {
        "id": "rjgtpZ-MAfkR"
      },
      "execution_count": null,
      "outputs": []
    },
    {
      "cell_type": "code",
      "source": [
        "class MyCollate:\n",
        "    def __init__(self, pad_idx):\n",
        "        self.pad_idx = pad_idx\n",
        "\n",
        "    def __call__(self, batch):\n",
        "        imgs = [item[0].unsqueeze(0) for item in batch]\n",
        "        imgs = torch.cat(imgs, dim=0)\n",
        "        targets = [item[1] for item in batch]\n",
        "        targets = pad_sequence(targets, batch_first=False, padding_value=self.pad_idx)\n",
        "\n",
        "        return imgs, targets"
      ],
      "metadata": {
        "id": "4hVZWWMqAg6U"
      },
      "execution_count": null,
      "outputs": []
    },
    {
      "cell_type": "code",
      "source": [
        "pad_idx = dataset.vocab.stoi[\"<PAD>\"]\n",
        "\n",
        "loader = DataLoader(\n",
        "                        dataset = dataset,\n",
        "                        batch_size = 32,\n",
        "                        num_workers = 2,\n",
        "                        shuffle = True,\n",
        "                        pin_memory = True,\n",
        "                        collate_fn = MyCollate(pad_idx=pad_idx),\n",
        "                    )"
      ],
      "metadata": {
        "id": "43CU01qeAPHz"
      },
      "execution_count": null,
      "outputs": []
    },
    {
      "cell_type": "code",
      "source": [
        "for idx, (imgs, captions) in enumerate(loader):\n",
        "    print(imgs.shape)\n",
        "    print(captions.shape)"
      ],
      "metadata": {
        "id": "5AqSPmW2_wxR"
      },
      "execution_count": null,
      "outputs": []
    },
    {
      "cell_type": "markdown",
      "source": [
        "# Modelling"
      ],
      "metadata": {
        "id": "yHV2bxgB6BNs"
      }
    },
    {
      "cell_type": "code",
      "source": [
        "class CNNtoRNN(nn.Module):\n",
        "    def __init__(self, vocab_size):\n",
        "        super(CNNtoRNN, self).__init__()\n",
        "\n",
        "        # image encoder layers\n",
        "        self.inception = models.inception_v3(pretrained=True, aux_logits=False)\n",
        "        self.inception.fc = nn.Linear(self.inception.fc.in_features, 256) #embedding size = 256\n",
        "        self.relu = nn.ReLU()\n",
        "        self.dropout = nn.Dropout(0.5)\n",
        "\n",
        "\n",
        "        # language model layers\n",
        "        self.embed = nn.Embedding(vocab_size, 256) #embedding size\n",
        "        self.lstm = nn.LSTM(256, 256, 2) #embedding size, hidden size, number of layers = 2\n",
        "        self.linear = nn.Linear(256, vocab_size) #hidden size\n",
        "\n",
        "    def forward(self, images, captions):\n",
        "\n",
        "        # encoding images using inception net\n",
        "        features = self.inception(images)\n",
        "        features = self.dropout(self.relu(features))\n",
        "\n",
        "        # language model (RNN)\n",
        "        embeddings = self.dropout(self.embed(captions))\n",
        "        embeddings = torch.cat((features.unsqueeze(0), embeddings), dim=0)\n",
        "        hiddens, _ = self.lstm(embeddings)\n",
        "        outputs = self.linear(hiddens)\n",
        "        return outputs\n",
        "\n",
        "    def caption_image(self, image, vocabulary, max_length=50):\n",
        "        result_caption = []\n",
        "\n",
        "        with torch.no_grad():\n",
        "            x = self.encoderCNN(image).unsqueeze(0)\n",
        "            states = None\n",
        "\n",
        "            for _ in range(max_length):\n",
        "                hiddens, states = self.decoderRNN.lstm(x, states)\n",
        "                output = self.decoderRNN.linear(hiddens.squeeze(0))\n",
        "                predicted = output.argmax(1)\n",
        "                result_caption.append(predicted.item())\n",
        "                x = self.decoderRNN.embed(predicted).unsqueeze(0)\n",
        "\n",
        "                if vocabulary.itos[predicted.item()] == \"<EOS>\":\n",
        "                    break\n",
        "\n",
        "        return [vocabulary.itos[idx] for idx in result_caption]"
      ],
      "metadata": {
        "id": "3zEO0SBq6CGH"
      },
      "execution_count": null,
      "outputs": []
    },
    {
      "cell_type": "markdown",
      "source": [
        "# Training"
      ],
      "metadata": {
        "id": "rae7dQKZ6I4L"
      }
    },
    {
      "cell_type": "code",
      "source": [
        "model = CNNtoRNN(len(dataset.vocab)).to(device)\n",
        "optimizer = optim.Adam(model.parameters(), lr=3e-4)"
      ],
      "metadata": {
        "id": "ZptqWbLl8opz"
      },
      "execution_count": null,
      "outputs": []
    },
    {
      "cell_type": "code",
      "source": [
        "# Only finetune the CNN\n",
        "for name, param in model.encoderCNN.inception.named_parameters():\n",
        "    if \"fc.weight\" in name or \"fc.bias\" in name:\n",
        "        param.requires_grad = True\n",
        "    else:\n",
        "        param.requires_grad = False"
      ],
      "metadata": {
        "id": "WSNjerII8qhI"
      },
      "execution_count": null,
      "outputs": []
    },
    {
      "cell_type": "code",
      "source": [
        "model.train()\n",
        "step = 0"
      ],
      "metadata": {
        "id": "p-E3-iyW8r5K"
      },
      "execution_count": null,
      "outputs": []
    },
    {
      "cell_type": "code",
      "source": [
        "for epoch in range(100):\n",
        "\n",
        "    for idx, (imgs, captions) in tqdm(enumerate(train_loader), total=len(train_loader), leave=False):\n",
        "\n",
        "        imgs = imgs.to(device)\n",
        "        captions = captions.to(device)\n",
        "\n",
        "        outputs = model(imgs, captions[:-1])\n",
        "        loss = nn.CrossEntropyLoss(ignore_index=dataset.vocab.stoi[\"<PAD>\"])(outputs.reshape(-1, outputs.shape[2]), captions.reshape(-1))\n",
        "\n",
        "        step += 1\n",
        "\n",
        "        optimizer.zero_grad()\n",
        "        loss.backward(loss)\n",
        "        optimizer.step()"
      ],
      "metadata": {
        "id": "MHKQJ7tz6J35"
      },
      "execution_count": null,
      "outputs": []
    },
    {
      "cell_type": "markdown",
      "source": [
        "# Inference"
      ],
      "metadata": {
        "id": "CgrQw7TA6aWu"
      }
    },
    {
      "cell_type": "code",
      "source": [
        "model.eval()\n",
        "\n",
        "transform = transforms.Compose([\n",
        "                                  transforms.Resize((299, 299)),\n",
        "                                  transforms.ToTensor(),\n",
        "                                  transforms.Normalize((0.5, 0.5, 0.5), (0.5, 0.5, 0.5))\n",
        "                                  ])\n",
        "\n",
        "\n",
        "test_img2 = transform(Image.open(\"test_examples/child.jpg\").convert(\"RGB\")).unsqueeze(0)\n",
        "print(\"Example 2 CORRECT: Child holding red frisbee outdoors\")\n",
        "print(\"Example 2 OUTPUT: \"+ \" \".join(model.caption_image(test_img2.to(device), dataset.vocab)))"
      ],
      "metadata": {
        "id": "gfRrQ_b16wUi"
      },
      "execution_count": null,
      "outputs": []
    }
  ]
}