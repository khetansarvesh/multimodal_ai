{
  "cells": [
    {
      "cell_type": "markdown",
      "metadata": {
        "id": "CzQMbYUOps4_"
      },
      "source": [
        "[![Open In Colab](https://colab.research.google.com/assets/colab-badge.svg)](https://colab.research.google.com/github/khetansarvesh/multimodal_ai/blob/main/image_captioning.ipynb)"
      ]
    },
    {
      "cell_type": "code",
      "execution_count": 1,
      "metadata": {
        "id": "j5temIlr6E8t"
      },
      "outputs": [],
      "source": [
        "import os  # when loading file paths\n",
        "import pandas as pd  # for lookup in annotation file\n",
        "import spacy  # for tokenizer\n",
        "from PIL import Image  # Load img\n",
        "import statistics\n",
        "from tqdm import tqdm\n",
        "\n",
        "import torch\n",
        "import torch.nn as nn\n",
        "import torch.optim as optim\n",
        "from torch.nn.utils.rnn import pad_sequence  # pad batch\n",
        "from torch.utils.data import DataLoader, Dataset\n",
        "import torchvision.transforms as transforms\n",
        "import torchvision.models as models\n",
        "\n",
        "# to download dataset from kaggle\n",
        "import requests\n",
        "import zipfile\n",
        "from io import BytesIO"
      ]
    },
    {
      "cell_type": "code",
      "execution_count": 2,
      "metadata": {
        "id": "rLR26SNf8VOl",
        "outputId": "91caef78-00f8-4caa-97d0-87aa180cafc4",
        "colab": {
          "base_uri": "https://localhost:8080/"
        }
      },
      "outputs": [
        {
          "output_type": "stream",
          "name": "stdout",
          "text": [
            "cuda\n"
          ]
        }
      ],
      "source": [
        "torch.backends.cudnn.benchmark = True\n",
        "device = torch.device(\"cuda\" if torch.cuda.is_available() else \"cpu\")\n",
        "print(device)"
      ]
    },
    {
      "cell_type": "markdown",
      "metadata": {
        "id": "-od4VQ4S6h8C"
      },
      "source": [
        "# **Dataset**\n",
        "\n"
      ]
    },
    {
      "cell_type": "code",
      "execution_count": 3,
      "metadata": {
        "colab": {
          "base_uri": "https://localhost:8080/"
        },
        "id": "FiyD_Pd4nDMl",
        "outputId": "d2e4ee36-5a9c-440f-b3f8-c77a4fa04606"
      },
      "outputs": [
        {
          "output_type": "stream",
          "name": "stdout",
          "text": [
            "Dataset 'adityajn105/flickr8k' has been downloaded to './Flickr8k'\n"
          ]
        }
      ],
      "source": [
        "def kaggle_dataset_download(api_key,\n",
        "                            your_username = 'sarveshkhetan',\n",
        "                            dataset_owner_id = 'adityajn105',\n",
        "                            dataset_name = 'flickr8k',\n",
        "                            download_path = './Flickr8k'):\n",
        "\n",
        "  os.makedirs(download_path, exist_ok=True)\n",
        "\n",
        "  # Construct the API URL\n",
        "  url = f'https://www.kaggle.com/api/v1/datasets/download/{dataset_owner_id}/{dataset_name}'\n",
        "\n",
        "  # Make the request with authentication\n",
        "  response = requests.get(url, headers={'Authorization': f'Basic {your_username}:{api_key}'})\n",
        "\n",
        "  if response.status_code == 200:\n",
        "      # Extract the zip file\n",
        "      z = zipfile.ZipFile(BytesIO(response.content))\n",
        "      z.extractall(download_path)\n",
        "      print(f\"Dataset '{dataset_owner_id}/{dataset_name}' has been downloaded to '{download_path}'\")\n",
        "  else:\n",
        "      print(f\"Failed to download dataset: {response.status_code} - {response.text}\")\n",
        "\n",
        "kaggle_dataset_download(\"3d4180e397e9ad0db78b7a9b78899db6\")"
      ]
    },
    {
      "cell_type": "code",
      "execution_count": 4,
      "metadata": {
        "id": "ERceM9n452YF"
      },
      "outputs": [],
      "source": [
        "class Vocabulary:\n",
        "\n",
        "    def __init__(self):\n",
        "        self.itos = {0: \"<PAD>\", 1: \"<SOS>\", 2: \"<EOS>\", 3: \"<UNK>\"}\n",
        "        self.stoi = {\"<PAD>\": 0, \"<SOS>\": 1, \"<EOS>\": 2, \"<UNK>\": 3}\n",
        "\n",
        "    def __len__(self):\n",
        "        return len(self.itos)\n",
        "\n",
        "    @staticmethod\n",
        "    def tokenizer_eng(text):\n",
        "        spacy_eng = spacy.load(\"en_core_web_sm\")\n",
        "        return [tok.text.lower() for tok in spacy_eng.tokenizer(text)]\n",
        "\n",
        "    def build_vocabulary(self, sentence_list):\n",
        "        frequencies = {}\n",
        "        idx = 4 #cause first 3 index are already taken by <PAD> <SOS> <EOS> <UNK>\n",
        "\n",
        "        for sentence in sentence_list:\n",
        "            for word in self.tokenizer_eng(sentence):\n",
        "\n",
        "                # adding word to the dictionary with it's frequency\n",
        "                if word not in frequencies:\n",
        "                    frequencies[word] = 1\n",
        "                else:\n",
        "                    frequencies[word] += 1\n",
        "\n",
        "                # if frequency of the word >=5 then adding it to ITOS and STOI\n",
        "                # you can change this threshold frequency value of 5 to any other number\n",
        "                if frequencies[word] == 5:\n",
        "                    self.stoi[word] = idx\n",
        "                    self.itos[idx] = word\n",
        "                    idx += 1\n",
        "\n",
        "    def numericalize(self, text):\n",
        "        tokenized_text = self.tokenizer_eng(text)\n",
        "        return [ self.stoi[token] if token in self.stoi else self.stoi[\"<UNK>\"] for token in tokenized_text]"
      ]
    },
    {
      "cell_type": "code",
      "execution_count": 5,
      "metadata": {
        "id": "ZqZ6lJKMbMLW"
      },
      "outputs": [],
      "source": [
        "class FlickrDataset(Dataset):\n",
        "\n",
        "    def __init__(self):\n",
        "        self.df = pd.read_csv(\"Flickr8k/captions.txt\").head(500) # only using first 5000 rows of the dataframe cause it it a huge huge dataset\n",
        "        self.transform = transforms.Compose([transforms.Resize((356, 356)),\n",
        "                                                      transforms.RandomCrop((299, 299)),\n",
        "                                                      transforms.ToTensor(),\n",
        "                                                      transforms.Normalize((0.5, 0.5, 0.5), (0.5, 0.5, 0.5))])\n",
        "\n",
        "        # Get img, caption columns\n",
        "        self.imgs = self.df[\"image\"]\n",
        "        self.captions = self.df[\"caption\"]\n",
        "\n",
        "        # Initialize vocabulary and build vocab\n",
        "        self.vocab = Vocabulary()\n",
        "        self.vocab.build_vocabulary(self.captions.tolist())\n",
        "\n",
        "    def __len__(self):\n",
        "        return len(self.df)\n",
        "\n",
        "    def __getitem__(self, index):\n",
        "\n",
        "        # loading 1 image and it's corresponding caption\n",
        "        caption = self.captions[index]\n",
        "        img_id = self.imgs[index]\n",
        "        img = Image.open(os.path.join(\"Flickr8k/Images\", img_id)).convert(\"RGB\")\n",
        "\n",
        "        # performing transformation on the image\n",
        "        img = self.transform(img)\n",
        "\n",
        "        # tokenizing caption i.e. converting caption to numeric form '<SOS> I am Sarvesh <EOS>' => '<1> <243> <4904> <78> <2>'\n",
        "        numericalized_caption = [self.vocab.stoi[\"<SOS>\"]] # cause caption will start with special token <start of sentence> (SOS)\n",
        "        numericalized_caption += self.vocab.numericalize(caption) # converting caption to numeric form\n",
        "        numericalized_caption.append(self.vocab.stoi[\"<EOS>\"]) # cause caption will end with special token <End of Sentence> (EOS)\n",
        "\n",
        "        return img, torch.tensor(numericalized_caption)"
      ]
    },
    {
      "cell_type": "code",
      "execution_count": 6,
      "metadata": {
        "id": "4hVZWWMqAg6U"
      },
      "outputs": [],
      "source": [
        "class padding_function:\n",
        "    def __init__(self, pad_idx):\n",
        "        self.pad_idx = pad_idx\n",
        "\n",
        "    def __call__(self, batch):\n",
        "        imgs = [item[0].unsqueeze(0) for item in batch]\n",
        "        imgs = torch.cat(imgs, dim=0)\n",
        "        targets = [item[1] for item in batch]\n",
        "        targets = pad_sequence(targets, batch_first=False, padding_value=self.pad_idx)\n",
        "\n",
        "        return imgs, targets"
      ]
    },
    {
      "cell_type": "code",
      "source": [
        "dataset = FlickrDataset()"
      ],
      "metadata": {
        "id": "5ZAYPaFH3J9U"
      },
      "execution_count": 7,
      "outputs": []
    },
    {
      "cell_type": "code",
      "execution_count": 8,
      "metadata": {
        "id": "43CU01qeAPHz"
      },
      "outputs": [],
      "source": [
        "loader = DataLoader(\n",
        "                        dataset = dataset,\n",
        "                        batch_size = 32,\n",
        "                        num_workers = 2,\n",
        "                        shuffle = True,\n",
        "                        pin_memory = True,\n",
        "                        collate_fn = padding_function(pad_idx=0), # padding is important becuase all captions should be of same length\n",
        "                        #pad index is 0 cause as defined above in stoi dictionary\n",
        "                    )"
      ]
    },
    {
      "cell_type": "markdown",
      "metadata": {
        "id": "yHV2bxgB6BNs"
      },
      "source": [
        "# **Modelling**"
      ]
    },
    {
      "cell_type": "code",
      "source": [
        "class Image_Encoder(nn.Module):\n",
        "    def __init__(self):\n",
        "        super(Image_Encoder, self).__init__()\n",
        "        self.inception = models.inception_v3(pretrained=True, aux_logits=True)\n",
        "        self.inception.fc = nn.Linear(self.inception.fc.in_features, 256)\n",
        "\n",
        "    def forward(self, images):\n",
        "        return self.inception(images).logits"
      ],
      "metadata": {
        "id": "nyuzpSzF9-qa"
      },
      "execution_count": 9,
      "outputs": []
    },
    {
      "cell_type": "code",
      "source": [
        "class Language_Model(nn.Module):\n",
        "    def __init__(self, vocab_size):\n",
        "        super(Language_Model, self).__init__()\n",
        "        self.embed = nn.Embedding(vocab_size, 256)\n",
        "        self.lstm = nn.LSTM(256, 256, 2)\n",
        "        self.linear = nn.Linear(256, vocab_size)\n",
        "\n",
        "    def forward(self, img_emb, captions):\n",
        "        embeddings = self.embed(captions)\n",
        "        embeddings = torch.cat((img_emb.unsqueeze(0), embeddings), dim=0)\n",
        "        hiddens, _ = self.lstm(embeddings)\n",
        "        outputs = self.linear(hiddens)\n",
        "        return outputs"
      ],
      "metadata": {
        "id": "HE30Zf6f-AUx"
      },
      "execution_count": 10,
      "outputs": []
    },
    {
      "cell_type": "code",
      "source": [
        "class Image_Conditioned_LM(nn.Module):\n",
        "    def __init__(self, vocab_size):\n",
        "        super(Image_Conditioned_LM, self).__init__()\n",
        "        self.img_encoder = Image_Encoder()\n",
        "        self.lm = Language_Model(vocab_size)\n",
        "\n",
        "    def forward(self, images, captions):\n",
        "        features = self.img_encoder(images)\n",
        "        outputs = self.lm(features, captions)\n",
        "        return outputs\n",
        "\n",
        "    def caption_image(self, image, vocabulary, max_length=50):\n",
        "        result_caption = []\n",
        "\n",
        "        with torch.no_grad():\n",
        "            x = self.img_encoder(image).unsqueeze(0)\n",
        "            states = None\n",
        "\n",
        "            for _ in range(max_length):\n",
        "                hiddens, states = self.Language_Model.lstm(x, states)\n",
        "                output = self.Language_Model.linear(hiddens.squeeze(0))\n",
        "                predicted = output.argmax(1)\n",
        "                result_caption.append(predicted.item())\n",
        "                x = self.Language_Model.embed(predicted).unsqueeze(0)\n",
        "\n",
        "                if vocabulary.itos[predicted.item()] == \"<EOS>\":\n",
        "                    break\n",
        "\n",
        "        return [vocabulary.itos[idx] for idx in result_caption]"
      ],
      "metadata": {
        "id": "S-uZ0PjL97tD"
      },
      "execution_count": 11,
      "outputs": []
    },
    {
      "cell_type": "markdown",
      "metadata": {
        "id": "rae7dQKZ6I4L"
      },
      "source": [
        "# **Training**"
      ]
    },
    {
      "cell_type": "code",
      "execution_count": 12,
      "metadata": {
        "id": "ZptqWbLl8opz",
        "outputId": "83a10356-8a52-4386-a3b5-1ef223f0b8c7",
        "colab": {
          "base_uri": "https://localhost:8080/"
        }
      },
      "outputs": [
        {
          "output_type": "stream",
          "name": "stderr",
          "text": [
            "/usr/local/lib/python3.11/dist-packages/torchvision/models/_utils.py:208: UserWarning: The parameter 'pretrained' is deprecated since 0.13 and may be removed in the future, please use 'weights' instead.\n",
            "  warnings.warn(\n",
            "/usr/local/lib/python3.11/dist-packages/torchvision/models/_utils.py:223: UserWarning: Arguments other than a weight enum or `None` for 'weights' are deprecated since 0.13 and may be removed in the future. The current behavior is equivalent to passing `weights=Inception_V3_Weights.IMAGENET1K_V1`. You can also use `weights=Inception_V3_Weights.DEFAULT` to get the most up-to-date weights.\n",
            "  warnings.warn(msg)\n",
            "Downloading: \"https://download.pytorch.org/models/inception_v3_google-0cc3c7bd.pth\" to /root/.cache/torch/hub/checkpoints/inception_v3_google-0cc3c7bd.pth\n",
            "100%|██████████| 104M/104M [00:00<00:00, 157MB/s] \n"
          ]
        }
      ],
      "source": [
        "model = Image_Conditioned_LM(len(dataset.vocab)).to(device)\n",
        "optimizer = optim.Adam(model.parameters(), lr=3e-4)"
      ]
    },
    {
      "cell_type": "code",
      "execution_count": 13,
      "metadata": {
        "id": "WSNjerII8qhI"
      },
      "outputs": [],
      "source": [
        "# Only finetune the CNN\n",
        "for name, param in model.img_encoder.inception.named_parameters():\n",
        "    if \"fc.weight\" in name or \"fc.bias\" in name:\n",
        "        param.requires_grad = True\n",
        "    else:\n",
        "        param.requires_grad = False"
      ]
    },
    {
      "cell_type": "code",
      "execution_count": 14,
      "metadata": {
        "id": "p-E3-iyW8r5K"
      },
      "outputs": [],
      "source": [
        "model.train()\n",
        "step = 0"
      ]
    },
    {
      "cell_type": "code",
      "execution_count": 16,
      "metadata": {
        "id": "MHKQJ7tz6J35",
        "outputId": "8093b9d1-4765-45eb-a9d9-506f8330df11",
        "colab": {
          "base_uri": "https://localhost:8080/"
        }
      },
      "outputs": [
        {
          "output_type": "stream",
          "name": "stderr",
          "text": []
        }
      ],
      "source": [
        "for epoch in range(5):\n",
        "\n",
        "    for idx, (imgs, captions) in tqdm(enumerate(loader), total=len(loader), leave=False):\n",
        "\n",
        "        imgs = imgs.to(device)\n",
        "        captions = captions.to(device)\n",
        "\n",
        "        outputs = model(imgs, captions[:-1])\n",
        "        loss = nn.CrossEntropyLoss(ignore_index=dataset.vocab.stoi[\"<PAD>\"])(outputs.reshape(-1, outputs.shape[2]), captions.reshape(-1))\n",
        "\n",
        "        step += 1\n",
        "\n",
        "        optimizer.zero_grad()\n",
        "        loss.backward(loss)\n",
        "        optimizer.step()"
      ]
    },
    {
      "cell_type": "markdown",
      "metadata": {
        "id": "CgrQw7TA6aWu"
      },
      "source": [
        "# **Inference**"
      ]
    },
    {
      "cell_type": "code",
      "execution_count": null,
      "metadata": {
        "id": "gfRrQ_b16wUi"
      },
      "outputs": [],
      "source": [
        "model.eval()\n",
        "\n",
        "transform = transforms.Compose([\n",
        "                                  transforms.Resize((299, 299)),\n",
        "                                  transforms.ToTensor(),\n",
        "                                  transforms.Normalize((0.5, 0.5, 0.5), (0.5, 0.5, 0.5))\n",
        "                                  ])\n",
        "\n",
        "\n",
        "test_img2 = transform(Image.open(\"test_examples/child.jpg\").convert(\"RGB\")).unsqueeze(0)\n",
        "print(\"Example 2 CORRECT: Child holding red frisbee outdoors\")\n",
        "print(\"Example 2 OUTPUT: \"+ \" \".join(model.caption_image(test_img2.to(device), dataset.vocab)))"
      ]
    }
  ],
  "metadata": {
    "colab": {
      "collapsed_sections": [
        "-od4VQ4S6h8C",
        "yHV2bxgB6BNs",
        "rae7dQKZ6I4L",
        "CgrQw7TA6aWu"
      ],
      "provenance": [],
      "gpuType": "T4"
    },
    "kernelspec": {
      "display_name": "Python 3",
      "name": "python3"
    },
    "language_info": {
      "name": "python"
    },
    "accelerator": "GPU"
  },
  "nbformat": 4,
  "nbformat_minor": 0
}